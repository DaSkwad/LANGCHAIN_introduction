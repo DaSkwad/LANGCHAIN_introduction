{
 "cells": [
  {
   "cell_type": "markdown",
   "id": "84f4459b",
   "metadata": {},
   "source": [
    "![LangChain](img/langchain.jpeg)"
   ]
  },
  {
   "cell_type": "markdown",
   "id": "0150e78f",
   "metadata": {},
   "source": [
    "**LangChain** est un framework open source conçu pour construire des applications d’intelligence artificielle autour des modèles de langage (LLMs) comme GPT, Claude ou Mistral. Il a la capacité de se connecter aux LLMs, à des sources de données, des outils, des chaînes de raisonnement et des moyens de stockage pour créer des systèmes interactifs et dynamiques."
   ]
  },
  {
   "cell_type": "markdown",
   "id": "dec6f6be",
   "metadata": {},
   "source": [
    "![LangChain components](img/langchain_components.png)"
   ]
  },
  {
   "cell_type": "markdown",
   "id": "b67c20df",
   "metadata": {},
   "source": [
    "> **LLM** \n",
    "-- \n",
    "Les LLMs sont les moteurs de raisonnement, de génération de texte ou de prise de décision. LangChain les encapsule pour les intégrer facilement dans des workflows intelligents.\n",
    "\n",
    "> **Prompts**\n",
    "--\n",
    "Les prompts sont la manière dont on guide un modèle. LangChain fournit des outils pour construire des prompts dynamiques, réutilisables et paramétrables.\n",
    "\n",
    "> **Chains**\n",
    "--\n",
    "Une `chain` est une séquence logique d’appels à un LLM et à d’autres composants (par exemple : extraction d’information → recherche vectorielle → génération de réponse). Elle permet de créer des **pipelines IA personnalisés** pour des tâches complexes.\n",
    "\n",
    "> **Memory**\n",
    "--\n",
    "LangChain permet de gérer une mémoire conversationnelle, c’est-à-dire la capacité à se souvenir des échanges passés. Cela rend les interactions plus naturelles et contextuelles dans les agents ou les chatbots.\n",
    "\n",
    "> **Agents**\n",
    "--\n",
    "Les agents vont plus loin : ils choisissent dynamiquement les actions à effectuer à partir d’outils disponibles (recherche web, calcul, consultation de base de données…). Ils peuvent décider quel outil appeler, avec quelles données, et enchaîner plusieurs étapes de façon autonome.\n",
    "\n",
    "> **Documents Loader**, **Text Splitters**, **Indexes** et **Vector DB** \n",
    "--\n",
    "> Ces composants forment la chaîne d’ingestion de connaissances :\n",
    "> - le Documents Loader charge des documents bruts depuis des fichiers, APIs, bases de données ou sites web.\n",
    "> - les Text Splitters découpent ces documents en chunks (morceaux de texte) pour respecter les limites de contexte des LLMs.\n",
    "> - le Vector DB : encode les chunks en vecteurs (via des embeddings) et les stocke dans une base vectorielle pour permettre une recherche par similarité.\n",
    "> - les Indexes centralisent et organisent ces composants pour structurer une base consultable. Ils permettent à un agent ou une chaîne de retrouver les informations pertinentes pour une tâche donnée (Q/R, résumé, etc.)."
   ]
  },
  {
   "cell_type": "markdown",
   "id": "4e7eb01a",
   "metadata": {},
   "source": [
    "# 1. Chargement du modèle LLM local\n",
    "___"
   ]
  },
  {
   "cell_type": "markdown",
   "id": "5cafb689",
   "metadata": {},
   "source": [
    "Dans cette section, nous chargeons un modèle de langage local grâce à **Ollama**. Cela permet de travailler avec un **LLM directement sur notre machine**, sans connexion à une API externe.\n",
    "\n",
    "Nous utilisons ici la classe `ChatOllama` de **LangChain**, qui nous permet d’interagir facilement avec un modèle comme llama3 déjà téléchargé via Ollama."
   ]
  },
  {
   "cell_type": "code",
   "execution_count": null,
   "id": "7301c899",
   "metadata": {},
   "outputs": [],
   "source": [
    "import os\n",
    "from IPython.display import display, Markdown\n",
    "from dotenv import load_dotenv\n",
    "from langchain_ollama import ChatOllama\n",
    "from langchain_deepseek import ChatDeepSeek\n",
    "\n",
    "# Chargement des clés d'API se trouvant dans le fichier .env.  \n",
    "# Ceci permet d'utiliser des modèles en ligne comme gpt-x, deepseek-x, etc...\n",
    "load_dotenv(override=True)\n",
    "\n",
    "model = ChatOllama(model=\"llama3\")\n",
    "#model = ChatDeepSeek(model=\"deepseek-chat\", api_key=os.getenv(\"DEEPSEEK_API_KEY\"))"
   ]
  },
  {
   "cell_type": "markdown",
   "id": "a48a0cd4",
   "metadata": {},
   "source": [
    "# 2. Requête basique\n",
    "___"
   ]
  },
  {
   "cell_type": "markdown",
   "id": "1bdc2daf",
   "metadata": {},
   "source": [
    "Maintenant que notre modèle est chargé, nous pouvons lui envoyer une première requête simple. Ici, nous utilisons la méthode `.invoke()` pour poser une question directe.\n",
    "\n",
    "Cela nous permet de tester rapidement le bon fonctionnement du modèle et d’observer comment il formule ses réponses."
   ]
  },
  {
   "cell_type": "code",
   "execution_count": null,
   "id": "da43aef4",
   "metadata": {},
   "outputs": [],
   "source": [
    "# Envoie une requête simple au modèle LLM via la méthode `invoke`\n",
    "# Ici, on pose un problème de mathématiques en langage naturel\n",
    "result = model.invoke(\"Résous ce problème de mathématiques. Quel est le résultat de la division de 4 par 2 ?\")\n",
    "\n",
    "# Affiche uniquement la réponse générée par le modèle (sans métadonnées)\n",
    "display(Markdown(result.content))"
   ]
  },
  {
   "cell_type": "markdown",
   "id": "907ad906",
   "metadata": {},
   "source": [
    "### 🧩 Exercices"
   ]
  },
  {
   "cell_type": "markdown",
   "id": "523de175",
   "metadata": {},
   "source": [
    "> Exercice 1\n",
    "\n",
    "Utilisez le modèle pour transformer une phrase simple en la réécrivant dans un style littéraire spécifique.\n",
    "1.\tEnvoyez une requête directe (sans PromptTemplate) via .invoke() contenant :\n",
    "- une instruction claire au modèle,\n",
    "- une phrase source,\n",
    "- le style souhaité (ex. : Shakespeare, roman noir, science-fiction, etc.).\n",
    "2.\tAffichez uniquement le résultat retourné par le LLM."
   ]
  },
  {
   "cell_type": "code",
   "execution_count": null,
   "id": "cc65bc41",
   "metadata": {},
   "outputs": [],
   "source": [
    "# Votre code ici"
   ]
  },
  {
   "cell_type": "markdown",
   "id": "29e523ab",
   "metadata": {},
   "source": [
    "> Exercice 2\n",
    "\n",
    "Tu es en mission pour rédiger un message diplomatique adressé à une civilisation extraterrestre très susceptible.\n",
    "1.\tEnvoyez une requête au modèle via .invoke() avec un prompt complet :\n",
    "- contexte fictif : situation tendue,\n",
    "- contraintes : éviter certains mots, rester poli,\n",
    "- objectif : obtenir la paix ou proposer une alliance.\n",
    "2.\tObservez comment le modèle gère le ton et les instructions."
   ]
  },
  {
   "cell_type": "code",
   "execution_count": null,
   "id": "93c105f2",
   "metadata": {},
   "outputs": [],
   "source": [
    "# Votre code ici"
   ]
  },
  {
   "cell_type": "markdown",
   "id": "55d3e0b3",
   "metadata": {},
   "source": [
    "# 3. Conversations avec le modèle\n",
    "___"
   ]
  },
  {
   "cell_type": "markdown",
   "id": "6e3ad6e1",
   "metadata": {},
   "source": [
    "Même si tout mettre dans un seul message peut fonctionner dans des cas simples, des types de messages différent nous donne plus de contrôle sur le dialogue et permet de mieux exploiter les capacités du modèle, surtout dans des systèmes plus complexes comme des agents ou des chatbots.\n",
    "\n",
    "C'est pour cela que, plutôt que de tout écrire dans une seule phrase, il est recommandé de distinguer différents types de messages :\n",
    "- `SystemMessage` : permet de définir le rôle ou le comportement attendu du modèle (par exemple : “Vous êtes un assistant qui répond en français”).\n",
    "- `HumanMessage` : correspond à ce que vous demandez réellement au modèle.\n",
    "- `AIMessage` : représente une réponse précédente du modèle, utile si nous construisons une conversation continue."
   ]
  },
  {
   "cell_type": "code",
   "execution_count": null,
   "id": "000a40ee",
   "metadata": {},
   "outputs": [],
   "source": [
    "from langchain_core.messages import AIMessage, HumanMessage, SystemMessage"
   ]
  },
  {
   "cell_type": "markdown",
   "id": "19b8cd83",
   "metadata": {},
   "source": [
    "### 3.1 Conversation sans mémoire (stateless)"
   ]
  },
  {
   "cell_type": "markdown",
   "id": "fe87d83e",
   "metadata": {},
   "source": [
    "Dans l'exemple suivant, nous structurons notre requête en simulant une interaction avec le modèle.  \n",
    "Nous séparons le contexte général (via un SystemMessage) de la question posée (via un HumanMessage)."
   ]
  },
  {
   "cell_type": "code",
   "execution_count": null,
   "id": "27747fe0",
   "metadata": {},
   "outputs": [],
   "source": [
    "# On définit une liste de messages structurés pour guider le comportement du modèle\n",
    "messages = [\n",
    "    # Le SystemMessage précise le rôle ou l'objectif général : ici, résoudre un problème mathématique\n",
    "    SystemMessage(content=\"Résous ce problème de mathématiques\"),\n",
    "\n",
    "    # Le HumanMessage contient la question concrète posée par l'utilisateur\n",
    "    HumanMessage(content=\"Quel est le résultat de la division de 4 par 2 ?\")    \n",
    "]\n",
    "\n",
    "result = model.invoke(messages)\n",
    "\n",
    "display(Markdown(result.content))"
   ]
  },
  {
   "cell_type": "markdown",
   "id": "f9d963ae",
   "metadata": {},
   "source": [
    "### 3.2 Conversation avec mémoire (stateful)"
   ]
  },
  {
   "cell_type": "markdown",
   "id": "04f0e640",
   "metadata": {},
   "source": [
    "Dans l'exemple qui suit, nous simulons une conversation à plusieurs tours avec le modèle.  \n",
    "Nous utilisons un AIMessage pour rappeler la réponse précédente, ce qui permet au modèle de garder le fil du dialogue et de répondre naturellement à une nouvelle question en lien avec la précédente."
   ]
  },
  {
   "cell_type": "code",
   "execution_count": null,
   "id": "d8e4ae45",
   "metadata": {},
   "outputs": [],
   "source": [
    "# On construit une liste de messages simulant une conversation en plusieurs étapes\n",
    "messages = [\n",
    "    # Le SystemMessage définit le rôle général du modèle : ici, résoudre des problèmes de mathématiques\n",
    "    SystemMessage(content=\"Résous ce problème de mathématiques\"),\n",
    "    \n",
    "    # Premier message de l'utilisateur : une question simple\n",
    "    HumanMessage(content=\"Quel est le résultat de la division de 4 par 2 ?\"),\n",
    "    \n",
    "    # Réponse simulée du modèle à la première question (permet de maintenir le contexte)\n",
    "    AIMessage(content=\"Le résultat de la division de 4 par 2 est égal à 2.\"),\n",
    "    \n",
    "    # Deuxième question de l'utilisateur, liée à la précédente\n",
    "    HumanMessage(content=\"Et 8 multiplié par 4 ?\"),\n",
    "]\n",
    "\n",
    "result = model.invoke(messages)\n",
    "\n",
    "display(Markdown(result.content))"
   ]
  },
  {
   "cell_type": "markdown",
   "id": "e4def04b",
   "metadata": {},
   "source": [
    "Dans le second exemple ci-dessous, nous mettons en place une boucle de conversation interactive avec le modèle.  \n",
    "À chaque échange, la question de l’utilisateur et la réponse du modèle sont ajoutées à l’historique (`chat_history`).  \n",
    "Cela permet au LLM de garder en mémoire le contexte et de répondre de façon plus cohérente tout au long de la discussion."
   ]
  },
  {
   "cell_type": "code",
   "execution_count": null,
   "id": "3f50962e",
   "metadata": {},
   "outputs": [],
   "source": [
    "# Initialisation de l'historique des messages\n",
    "chat_history = []\n",
    "\n",
    "# Message système : donne un rôle au modèle pour toute la session\n",
    "system_message = SystemMessage(content=\"Tu es un expert en mathématiques et un pédagogue dans ce domaine.\")\n",
    "chat_history.append(system_message)\n",
    "\n",
    "\n",
    "# Boucle principale de conversation (s'arrête si l'utilisateur tape 'exit')\n",
    "# ⚠️ `while Flase: ` à modier en `while True: ` et inversément lorsque vous souhaitez désactiver ou activer cet exemple\n",
    "while False:\n",
    "    query = input(\"Vous : \")\n",
    "    if query.lower() == \"exit\":\n",
    "        break  # Sortie de la boucle\n",
    "\n",
    "    # Ajout de la question de l'utilisateur dans l'historique\n",
    "    chat_history.append(HumanMessage(content=query))\n",
    "\n",
    "    # Envoi de tout l'historique au modèle pour maintenir le contexte\n",
    "    result = model.invoke(chat_history)\n",
    "    response = result.content\n",
    "\n",
    "    # Ajout de la réponse du modèle dans l'historique\n",
    "    chat_history.append(AIMessage(content=response))\n",
    "\n",
    "    # Affichage de la réponse à l'utilisateur\n",
    "    print(response)\n",
    "\n",
    "\n",
    "print(\"------ Historique des messages ------\")\n",
    "print(chat_history)"
   ]
  },
  {
   "cell_type": "markdown",
   "id": "8b4cc395",
   "metadata": {},
   "source": [
    "### 🧩 Exercices"
   ]
  },
  {
   "cell_type": "markdown",
   "id": "e3306d3d",
   "metadata": {},
   "source": [
    "> Exercice 1\n",
    "\n",
    "1.\tCréez une liste messages avec :\n",
    "- un SystemMessage qui indique que l’IA est un expert dans un domaine de ton choix (maths, histoire, cinéma, etc.),\n",
    "- un HumanMessage qui pose une question à l’IA.\n",
    "2.\tEnvoyez cette liste à model.invoke(messages) et affiche la réponse."
   ]
  },
  {
   "cell_type": "code",
   "execution_count": null,
   "id": "55850e3a",
   "metadata": {},
   "outputs": [],
   "source": [
    "# Votre code ici"
   ]
  },
  {
   "cell_type": "markdown",
   "id": "f136b7b2",
   "metadata": {},
   "source": [
    "> Exercice 2\n",
    "\n",
    "Créer une mini-conversation avec l’IA, où chaque question/réponse est ajoutée à l’historique des messages. L’IA doit se souvenir de l’échange précédent.\n",
    "\n",
    "1.\tInitialisez une liste messages avec un SystemMessage définissant le rôle de l’IA.\n",
    "2.\tDans une boucle :\n",
    "- Demandez une question à l’utilisateur (input()),\n",
    "- Ajoutez un HumanMessage à la liste,\n",
    "- Envoyez la liste complète à model.invoke(...),\n",
    "- Affichez la réponse de l’IA,\n",
    "- Ajoutez cette réponse comme AIMessage à la liste.\n",
    "3.\tArrêtez la boucle si l’utilisateur entre \"stop\"."
   ]
  },
  {
   "cell_type": "code",
   "execution_count": null,
   "id": "4e745ff2",
   "metadata": {},
   "outputs": [],
   "source": [
    "# Votre code ici"
   ]
  },
  {
   "cell_type": "markdown",
   "id": "99079f69",
   "metadata": {},
   "source": [
    "# 4. Conversations avec le modèle à l'aide de Prompt Templates\n",
    "___"
   ]
  },
  {
   "cell_type": "markdown",
   "id": "162b858f",
   "metadata": {},
   "source": [
    "Nous allons explorer l’utilisation de `ChatPromptTemplate`, un outil qui permet de structurer proprement les messages envoyés à un modèle de type “chat” (comme GPT-4).\n",
    "\n",
    "`ChatPromptTemplate` permet de construire une conversation multi-rôle en distinguant les messages système (règles, rôle de l’IA), humains (questions ou commandes) et les réponses de l’IA."
   ]
  },
  {
   "cell_type": "code",
   "execution_count": null,
   "id": "367d951e",
   "metadata": {},
   "outputs": [],
   "source": [
    "from langchain.prompts import ChatPromptTemplate"
   ]
  },
  {
   "cell_type": "markdown",
   "id": "88b05d41",
   "metadata": {},
   "source": [
    "### 4.1 Prompt conversation à rôle unique (human)"
   ]
  },
  {
   "cell_type": "markdown",
   "id": "8f91fa28",
   "metadata": {},
   "source": [
    "Ce type de prompt utilise la fonction `.from_template( )` et est de type `human` par défaut, c'est un prompte simple \"tout en un\" où il n'est pas possible de contrôler le rôle."
   ]
  },
  {
   "cell_type": "code",
   "execution_count": null,
   "id": "c6b3b1a5",
   "metadata": {},
   "outputs": [],
   "source": [
    "# Définition d'un template simple (texte brut avec variables), sans rôles explicites\n",
    "template = \"Tu es un expert en mathématiques et un pédagogue dans ce domaine. Calcule le double de {value_1}, puis celui de {value_2}\"\n",
    "\n",
    "# Création du prompt à partir du template ; ce sera un message unique de type 'human' par défaut\n",
    "chat_prompt_template = ChatPromptTemplate.from_template(template)\n",
    "\n",
    "# Injection des valeurs dans les variables du template\n",
    "prompt_value = chat_prompt_template.invoke({\"value_1\": 12, \"value_2\": 34})\n",
    "\n",
    "# Envoi du prompt au modèle pour obtenir une réponse\n",
    "result = model.invoke(prompt_value)\n",
    "\n",
    "display(Markdown(result.content))"
   ]
  },
  {
   "cell_type": "markdown",
   "id": "404f0120",
   "metadata": {},
   "source": [
    "### 4.2 Prompt conversation à rôles multiples (system, assistant, human)"
   ]
  },
  {
   "cell_type": "markdown",
   "id": "920ea67f",
   "metadata": {},
   "source": [
    "Ce type de prompt utilise la fonction `.from_messages( )` et permet de définir **plusieurs messages avec des rôles explicites** (system, human, etc.).  \n",
    "C’est un prompt structuré, idéal pour guider précisément le comportement du modèle dans un contexte conversationnel."
   ]
  },
  {
   "cell_type": "code",
   "execution_count": null,
   "id": "8ce68b65",
   "metadata": {},
   "outputs": [],
   "source": [
    "chat_prompt_template = ChatPromptTemplate.from_messages([\n",
    "    # Message système : définit le rôle et le comportement global du modèle\n",
    "    (\"system\", \"Tu es un expert en mathématiques et un pédagogue dans ce domaine.\"),\n",
    "    # Message utilisateur : pose une question contenant deux variables\n",
    "    (\"human\", \"Calcule le double de {value_1}, puis celui de {value_2}\")\n",
    "])\n",
    "\n",
    "# Injection des valeurs dans les variables du prompt\n",
    "prompt_value = chat_prompt_template.invoke({\"value_1\": 12, \"value_2\": 34})\n",
    "\n",
    "# Envoi du prompt structuré au modèle pour obtenir une réponse\n",
    "result = model.invoke(prompt_value)\n",
    "\n",
    "display(Markdown(result.content))"
   ]
  },
  {
   "cell_type": "markdown",
   "id": "1ddb6d7e",
   "metadata": {},
   "source": [
    "### 🧩 Exercices"
   ]
  },
  {
   "cell_type": "markdown",
   "id": "37a2a134",
   "metadata": {},
   "source": [
    "> Exercice 1\n",
    "\n",
    "Construire un assistant capable d’adopter le style d’un philosophe célèbre pour répondre à des questions existentielles.\n",
    "1.\tCréez un ChatPromptTemplate avec :\n",
    "- un message system définissant l’IA comme un philosophe précis ({philosopher}),\n",
    "- un message human contenant une question {question}.\n",
    "2.\tInjectez des variables avec :\n",
    "- un nom de philosophe (ex. : Socrate, Nietzsche, Simone de Beauvoir),\n",
    "- une question philosophique.\n",
    "3.\tAffichez la réponse du modèle, en observant si le style correspond au philosophe choisi."
   ]
  },
  {
   "cell_type": "code",
   "execution_count": null,
   "id": "ca1c929e",
   "metadata": {},
   "outputs": [],
   "source": [
    "# Votre code ici"
   ]
  },
  {
   "cell_type": "markdown",
   "id": "9dfa107a",
   "metadata": {},
   "source": [
    "> Exercice 2\n",
    "\n",
    "Simulez une conversation entre un utilisateur et un LLM autour d’un sujet (ex. : mathématiques, littérature, programmation) en construisant dynamiquement le prompt avec `ChatPromptTemplate`.\n",
    "\n",
    "Implémentez une boucle qui :\n",
    "- Initialise un prompt avec un message system.\n",
    "\n",
    "À chaque tour :\n",
    "- Prend une entrée utilisateur (input()),\n",
    "- Ajoute un message human,\n",
    "- Envoie le tout au LLM,\n",
    "- Affiche la réponse,\n",
    "- Ajoute un message de type/role `assistant` contenant la réponse (💡 ce rôle correspond à la réponse de l’IA et est l'équivalent de AIMessage).\n",
    "- Arrête la conversation si l’utilisateur entre “stop”."
   ]
  },
  {
   "cell_type": "code",
   "execution_count": null,
   "id": "b5d8dcb6",
   "metadata": {},
   "outputs": [],
   "source": [
    "# Votre code ici"
   ]
  }
 ],
 "metadata": {
  "kernelspec": {
   "display_name": ".venv",
   "language": "python",
   "name": "python3"
  },
  "language_info": {
   "codemirror_mode": {
    "name": "ipython",
    "version": 3
   },
   "file_extension": ".py",
   "mimetype": "text/x-python",
   "name": "python",
   "nbconvert_exporter": "python",
   "pygments_lexer": "ipython3",
   "version": "3.10.17"
  }
 },
 "nbformat": 4,
 "nbformat_minor": 5
}
